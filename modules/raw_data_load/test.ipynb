{
 "cells": [
  {
   "cell_type": "code",
   "execution_count": 56,
   "metadata": {
    "collapsed": true,
    "pycharm": {
     "name": "#%%\n"
    }
   },
   "outputs": [],
   "source": [
    "import pandas as pd\n",
    "import time\n",
    "import numpy as np"
   ]
  },
  {
   "cell_type": "code",
   "execution_count": 50,
   "outputs": [
    {
     "name": "stdout",
     "output_type": "stream",
     "text": [
      "load time: 23.763453483581543\n"
     ]
    }
   ],
   "source": [
    "start_time = time.time()\n",
    "whitelist_input_file_name = 'whitelist.xlsx'\n",
    "whitelist = pd.read_excel(whitelist_input_file_name, header=0)\n",
    "end_time = time.time()\n",
    "print('load time:', end_time-start_time)"
   ],
   "metadata": {
    "collapsed": false,
    "pycharm": {
     "name": "#%%\n"
    }
   }
  },
  {
   "cell_type": "code",
   "execution_count": 59,
   "outputs": [
    {
     "name": "stdout",
     "output_type": "stream",
     "text": [
      "load time: 75.3331253528595\n"
     ]
    }
   ],
   "source": [
    "start_time = time.time()\n",
    "covid_detection_input_file_name = 'covid_detection.xlsx'\n",
    "covid_detection = pd.read_excel(covid_detection_input_file_name, header=0)\n",
    "end_time = time.time()\n",
    "print('load time:', end_time-start_time)"
   ],
   "metadata": {
    "collapsed": false,
    "pycharm": {
     "name": "#%%\n"
    }
   }
  },
  {
   "cell_type": "code",
   "execution_count": 105,
   "outputs": [],
   "source": [
    "def clean_data(x):\n",
    "    # check NULL value\n",
    "    if pd.isnull(x):\n",
    "        return '\\\\N'\n",
    "\n",
    "    # remove newline\n",
    "    s = str(x)\n",
    "    if s.find('\\n') != -1:\n",
    "        print(s)\n",
    "        s = s.replace('\\n', '')\n",
    "        print(s)\n",
    "\n",
    "    # replace English comma with Chinese comma\n",
    "    s = s.replace(',', '，')\n",
    "\n",
    "    # if s end with '\\', add a blank after s\n",
    "    if s.endswith('\\\\'):\n",
    "        s = s + ' '\n",
    "\n",
    "    return s"
   ],
   "metadata": {
    "collapsed": false,
    "pycharm": {
     "name": "#%%\n"
    }
   }
  },
  {
   "cell_type": "code",
   "execution_count": 28,
   "outputs": [
    {
     "name": "stdout",
     "output_type": "stream",
     "text": [
      "TSHIBANDA. MUL IMUL OWAYI\n"
     ]
    }
   ],
   "source": [
    "print(whitelist['姓名'][2472])"
   ],
   "metadata": {
    "collapsed": false,
    "pycharm": {
     "name": "#%%\n"
    }
   }
  },
  {
   "cell_type": "code",
   "execution_count": 37,
   "outputs": [
    {
     "data": {
      "text/plain": "街道                                    石岩街道\n社区                                    浪心社区\n网格                                    浪心31\n所居住花园小区/城中村名称                         石岩新村\n所属电子哨兵卡口名称                        石岩新村120栋\n姓名                                     吴繁陆\n性别                                       男\n人员类型                                  内地居民\n证件类型                               大陆居民身份证\n证件号码                    440982198109235893\n出生年月                   1981-09-23 00:00:00\n手机号码                           13928441765\n国籍                                      中国\n是否暂离                                     否\n户籍地址                    广东省化州市平定镇六赠良西冲村46号\n工作单位所在市                                 深圳\n工作单位所在行政区                              宝安区\n工作单位名称                                 楼管员\n工作单位地址                   广东省深圳市宝安区石岩街道浪心社区\n是否纳入市网格办统计                               是\n楼栋地址                              石岩新村120栋\n楼栋编码                   4403060060021400130\n房屋地址                           石岩新村120栋302\n房屋编码             4403060060021400130000006\n备注                              2019-04-27\n审核结果                                导入自动审核\n审核人                                    彭浩杰\n审核时间                   2022-08-19 15:33:37\n上报类型                                  人工导入\nName: 34846, dtype: object"
     },
     "execution_count": 37,
     "metadata": {},
     "output_type": "execute_result"
    }
   ],
   "source": [
    "whitelist.loc[34846]"
   ],
   "metadata": {
    "collapsed": false,
    "pycharm": {
     "name": "#%%\n"
    }
   }
  },
  {
   "cell_type": "code",
   "execution_count": 54,
   "outputs": [
    {
     "name": "stdout",
     "output_type": "stream",
     "text": [
      "Index(['姓名', '出生日期', '年龄', '电话号码', '机构所在地', '采样机构', '采样时间', '检测机构', '检测时间',\n",
      "       '检测结果', '检测结果填报时间', '复核结果', '复核机构', '复核时间', '性别', '国家/地区', '居住地',\n",
      "       '证件类型', '证件号码', '未提供有效证件原因', '检测人群分类', '应检尽检类别', '导入机构', '样本条形码',\n",
      "       '样本类型', '检测项目', '采样点行政区划', '采样地点', '所在学校/单位名称', '备注1', '备注2', '采集类型',\n",
      "       '导入时间', '创建人账号', '创建人姓名'],\n",
      "      dtype='object')\n"
     ]
    }
   ],
   "source": [
    "print(covid_detection.columns)"
   ],
   "metadata": {
    "collapsed": false,
    "pycharm": {
     "name": "#%%\n"
    }
   }
  },
  {
   "cell_type": "code",
   "execution_count": 106,
   "outputs": [
    {
     "name": "stdout",
     "output_type": "stream",
     "text": [
      "clean time: 8.174000978469849\n"
     ]
    }
   ],
   "source": [
    "start_time = time.time()\n",
    "covid_detection_clean = covid_detection.apply(np.vectorize(clean_data))\n",
    "end_time = time.time()\n",
    "print('clean time:', end_time-start_time)\n",
    "covid_detection_out_file_name = 'covid_detection.csv'\n",
    "covid_detection_clean.to_csv(covid_detection_out_file_name, na_rep='NULL', header=True, index=False, encoding='utf-8')"
   ],
   "metadata": {
    "collapsed": false,
    "pycharm": {
     "name": "#%%\n"
    }
   }
  },
  {
   "cell_type": "code",
   "execution_count": 68,
   "outputs": [
    {
     "name": "stdout",
     "output_type": "stream",
     "text": [
      "nan\n",
      "<class 'numpy.float64'>\n"
     ]
    }
   ],
   "source": [
    "print(covid_detection['复核时间'][0])\n",
    "print(type(covid_detection['复核时间'][0]))"
   ],
   "metadata": {
    "collapsed": false,
    "pycharm": {
     "name": "#%%\n"
    }
   }
  },
  {
   "cell_type": "code",
   "execution_count": 102,
   "outputs": [
    {
     "name": "stdout",
     "output_type": "stream",
     "text": [
      "True\n",
      "True\n"
     ]
    }
   ],
   "source": [
    "print(np.isnan(covid_detection['复核时间'][0]))\n",
    "print(pd.isnull(covid_detection['复核时间'][0]))"
   ],
   "metadata": {
    "collapsed": false,
    "pycharm": {
     "name": "#%%\n"
    }
   }
  },
  {
   "cell_type": "code",
   "execution_count": 109,
   "outputs": [
    {
     "name": "stdout",
     "output_type": "stream",
     "text": [
      "# 1. drop temporary table storing new covid records\n",
      "DROP TABLE langxin_community.new_covid_detection_records;\n",
      "\n",
      "# 2. create a new temporary table storing new covid records\n",
      "CREATE TABLE new_covid_detection_records (\n",
      "    `id` INT UNSIGNED AUTO_INCREMENT,\n",
      "    `姓名` VARCHAR(100),\n",
      "    `出生日期` DATE,\n",
      "    `年龄` INT,\n",
      "    `电话号码` VARCHAR(20),\n",
      "    `机构所在地` VARCHAR(100),\n",
      "    `采样机构` VARCHAR(40),\n",
      "    `采样时间` DATETIME,\n",
      "    `检测机构` VARCHAR(40),\n",
      "    `检测时间` DATETIME,\n",
      "    `检测结果` VARCHAR(20),\n",
      "    `检测结果填报时间` DATETIME,\n",
      "    `复核结果` VARCHAR(20),\n",
      "    `复核机构` VARCHAR(40),\n",
      "    `复核时间` DATETIME DEFAULT NULL,\n",
      "    `性别` VARCHAR(20),\n",
      "    `国家/地区` VARCHAR(20),\n",
      "    `居住地` VARCHAR(100),\n",
      "    `证件类型` VARCHAR(20),\n",
      "    `证件号码` VARCHAR(40),\n",
      "    `未提供有效证件原因` VARCHAR(100),\n",
      "    `检测人群分类` VARCHAR(40),\n",
      "    `应检尽检类别` VARCHAR(40),\n",
      "    `导入机构` VARCHAR(40),\n",
      "    `样本条形码` VARCHAR(25),\n",
      "    `样本类型` VARCHAR(20),\n",
      "    `检测项目` VARCHAR(20),\n",
      "    `采样点行政区划` VARCHAR(100),\n",
      "    `采样地点` VARCHAR(100),\n",
      "    `所在学校/单位名称` VARCHAR(40),\n",
      "    `备注1` VARCHAR(100),\n",
      "    `备注2` VARCHAR(100),\n",
      "    `采集类型` VARCHAR(20),\n",
      "    `导入时间` DATETIME,\n",
      "    `创建人账号` VARCHAR(20),\n",
      "    `创建人姓名` VARCHAR(40),\n",
      "    PRIMARY KEY (`id`),\n",
      "    INDEX idx_rid(`证件号码`),\n",
      "    INDEX idx_sample_time(`采样时间`),\n",
      "    INDEX idx_detection_result_time(`检测结果填报时间`)\n",
      ") DEFAULT CHARSET=utf8;\n",
      "\n",
      "# 3. load new detection records in csv files into temporary table\n",
      "LOAD DATA INFILE '/var/lib/mysql-files/covid_detection.csv' INTO TABLE langxin_community.new_covid_detection_records\n",
      "CHARACTER SET utf8 FIELDS TERMINATED BY ',' ESCAPED BY '\\\\' LINES TERMINATED BY '\\n'  IGNORE 1 LINES\n",
      "(`姓名`,`出生日期`,`年龄`,`电话号码`,`机构所在地`,`采样机构`,`采样时间`,`检测机构`,`检测时间`,`检测结果`,`检测结果填报时间`,\n",
      " `复核结果`,`复核机构`,`复核时间`,`性别`,`国家/地区`,`居住地`,`证件类型`,`证件号码`,`未提供有效证件原因`,`检测人群分类`,`应检尽检类别`,\n",
      " `导入机构`,`样本条形码`,`样本类型`,`检测项目`,`采样点行政区划`,`采样地点`,`所在学校/单位名称`,`备注1`,`备注2`,`采集类型`,`导入时间`,\n",
      " `创建人账号`,`创建人姓名`);\n",
      "\n",
      "# 4. merge temporary table into main table of covid detection records\n",
      "# 4.1 update records varied: newly released detection results\n",
      "UPDATE covid_detection_records cdr join\n",
      "(select ncdr.`证件号码` as 证件号码,ncdr.`采样时间` as 采样时间,ncdr.`检测机构` as 检测机构,ncdr.`检测时间` as 检测时间,\n",
      "       ncdr.`检测结果` as 检测结果,ncdr.`检测结果填报时间` as 检测结果填报时间,ncdr.`复核结果` as 复核结果,\n",
      "       ncdr.`复核机构` as 复核机构,ncdr.`复核时间` as 复核时间,ncdr.`导入时间` as 导入时间,ncdr.`创建人账号` as 创建人账号,\n",
      "       ncdr.`创建人姓名` as 创建人姓名\n",
      "from\n",
      "    covid_detection_records cdr join\n",
      "    new_covid_detection_records ncdr\n",
      "on\n",
      "    cdr.采样时间 = ncdr.采样时间 and\n",
      "    cdr.证件号码 = ncdr.证件号码 ) updated_records\n",
      "on\n",
      "    cdr.采样时间 = updated_records.采样时间 and\n",
      "    cdr.证件号码 = updated_records.证件号码\n",
      "set\n",
      "    cdr.检测机构 = updated_records.检测机构,\n",
      "    cdr.检测时间 = updated_records.检测时间,\n",
      "    cdr.检测结果 = updated_records.检测结果,\n",
      "    cdr.检测结果填报时间 = updated_records.检测结果填报时间,\n",
      "    cdr.复核结果 = updated_records.复核结果,\n",
      "    cdr.复核机构 = updated_records.复核机构,\n",
      "    cdr.复核时间 = updated_records.复核时间,\n",
      "    cdr.导入时间 = updated_records.导入时间,\n",
      "    cdr.创建人账号 = updated_records.创建人账号,\n",
      "    cdr.创建人姓名 = updated_records.创建人姓名;\n",
      "\n",
      "# 4.2.add new records into table.\n",
      "insert into covid_detection_records (`姓名`,`出生日期`,`年龄`,`电话号码`,`机构所在地`,`采样机构`,`采样时间`,`检测机构`,`检测时间`,\n",
      "                                     `检测结果`,`检测结果填报时间`,`复核结果`,`复核机构`,`复核时间`,`性别`,`国家/地区`,`居住地`,\n",
      "                                     `证件类型`,`证件号码`,`未提供有效证件原因`,`检测人群分类`,`应检尽检类别`,`导入机构`,`样本条形码`,\n",
      "                                     `样本类型`,`检测项目`,`采样点行政区划`,`采样地点`,`所在学校/单位名称`,`备注1`,`备注2`,`采集类型`,\n",
      "                                     `导入时间`,`创建人账号`,`创建人姓名`)\n",
      "select ncdr.`姓名`,ncdr.`出生日期`,ncdr.`年龄`,ncdr.`电话号码`,ncdr.`机构所在地`,ncdr.`采样机构`,ncdr.`采样时间`,ncdr.`检测机构`,\n",
      "       ncdr.`检测时间`,ncdr.`检测结果`,ncdr.`检测结果填报时间`,ncdr.`复核结果`,ncdr.`复核机构`,ncdr.`复核时间`,ncdr.`性别`,\n",
      "       ncdr.`国家/地区`,ncdr.`居住地`,ncdr.`证件类型`,ncdr.`证件号码`,ncdr.`未提供有效证件原因`,ncdr.`检测人群分类`,ncdr.`应检尽检类别`,\n",
      "       ncdr.`导入机构`,ncdr.`样本条形码`,ncdr.`样本类型`,ncdr.`检测项目`,ncdr.`采样点行政区划`,ncdr.`采样地点`,ncdr.`所在学校/单位名称`,\n",
      "       ncdr.`备注1`,ncdr.`备注2`,ncdr.`采集类型`,ncdr.`导入时间`,ncdr.`创建人账号`,ncdr.`创建人姓名`\n",
      "from\n",
      "    covid_detection_records cdr right join\n",
      "    new_covid_detection_records ncdr\n",
      "on\n",
      "    cdr.证件号码 = ncdr.证件号码\n",
      "    and cdr.采样时间 = ncdr.采样时间\n",
      "where\n",
      "    cdr.id is NULL;\n",
      "\n",
      "\n"
     ]
    }
   ],
   "source": [
    "with open('load_covid_detection.sql', encoding='utf8') as f:\n",
    "    print(f.read())\n",
    "    # print(f.readline())\n",
    "    # print(f.readlines())"
   ],
   "metadata": {
    "collapsed": false,
    "pycharm": {
     "name": "#%%\n"
    }
   }
  }
 ],
 "metadata": {
  "kernelspec": {
   "display_name": "Python 3",
   "language": "python",
   "name": "python3"
  },
  "language_info": {
   "codemirror_mode": {
    "name": "ipython",
    "version": 2
   },
   "file_extension": ".py",
   "mimetype": "text/x-python",
   "name": "python",
   "nbconvert_exporter": "python",
   "pygments_lexer": "ipython2",
   "version": "2.7.6"
  }
 },
 "nbformat": 4,
 "nbformat_minor": 0
}